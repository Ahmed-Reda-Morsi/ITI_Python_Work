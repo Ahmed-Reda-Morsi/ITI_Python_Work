{
 "cells": [
  {
   "attachments": {},
   "cell_type": "markdown",
   "metadata": {},
   "source": [
    "# Create a Post for a FaceBook Page using a FaceBook Dev APIS"
   ]
  },
  {
   "cell_type": "code",
   "execution_count": 29,
   "metadata": {},
   "outputs": [
    {
     "name": "stdout",
     "output_type": "stream",
     "text": [
      "{\"error\":{\"message\":\"(#200) If posting to a group, requires app being installed in the group, and \\\\\\n          either publish_to_groups permission with user token, or both pages_read_engagement \\\\\\n          and pages_manage_posts permission with page token; If posting to a page, \\\\\\n          requires both pages_read_engagement and pages_manage_posts as an admin with \\\\\\n          sufficient administrative permission\",\"type\":\"OAuthException\",\"code\":200,\"fbtrace_id\":\"A_MD7dypCQBQbpYN3TMGOrs\"}}\n"
     ]
    },
    {
     "data": {
      "text/plain": [
       "' posts_data=requests.get(get_AllPosts_url)\\nposts_data=json.loads(posts_data.text)\\nposts_data=json.dumps(posts_data,indent=2)\\nprint(posts_data) '"
      ]
     },
     "execution_count": 29,
     "metadata": {},
     "output_type": "execute_result"
    }
   ],
   "source": [
    "import requests\n",
    "import json\n",
    "# define your facebook page id \n",
    "from FaceBookConfig import ES_Page_id \n",
    "# define your facebook page  access token \n",
    "from FaceBookConfig import FaceBookAccessToken \n",
    "# define your facebook wanted post id  to update \n",
    "from FaceBookConfig import PostUpdate_id\n",
    "\n",
    "# Set up the access token and Facebook Graph API endpoint\n",
    "FaceBook_Post_url = 'https://graph.facebook.com'\n",
    "FaceBook_url = 'https://www.facebook.com'\n",
    "\n",
    "#___________| make a new FaceBook Post in ES Page |___________________\n",
    "# Make the request to the Facebook Graph API to post to the page\n",
    "post_url = '{url}/{page_id}/feed'.format(url=FaceBook_Post_url,page_id=ES_Page_id)\n",
    "\n",
    "# Set up the data for the post\n",
    "msg='You want to try or use chaGPT without sign up ,\\\n",
    "there is a great website to do that called \"poe.com\".'\n",
    "\n",
    "Post_payload={\n",
    "    'message':msg,\n",
    "    'link':'https://poe.com/',\n",
    "    'access_token':FaceBookAccessToken,\n",
    "}\n",
    "\n",
    "# push a post to our page .\n",
    "post_status=requests.post(post_url,data=Post_payload)\n",
    "# display the id of our post \n",
    "print(post_status.text)\n",
    "\n",
    "\n",
    "#___________|Update exist a FaceBook Post in ES Page |___________________\n",
    "post_update_url = '{url}/{page_Post_id}'.format(url=FaceBook_Post_url,page_Post_id=PostUpdate_id)\n",
    "\n",
    "msg_update='You want to try or use chaGPT without sign up ,\\\n",
    "there is a great website to do that called \"poe.com\".'\n",
    "Post_Update_payload={\n",
    "    'message':msg_update,\n",
    "    'access_token':FaceBookAccessToken,\n",
    "}\n",
    "\n",
    "# update post  .\n",
    "post_status=requests.post(post_update_url,data=Post_Update_payload)\n",
    "# display the post status\n",
    "#print(post_status.text)\n",
    "\n",
    "#___________|show all FaceBook Posts in ES Page |___________________\n",
    "#  get  all posts information in our page.\n",
    "get_AllPosts_url = '{url}/{page_id}/feed?access_token={token}'.format(url=FaceBook_url,page_id=ES_Page_id,token=FaceBookAccessToken)\n",
    "#__ dispaly all posts information in our page with json format.\n",
    "\"\"\" posts_data=requests.get(get_AllPosts_url)\n",
    "posts_data=json.loads(posts_data.text)\n",
    "posts_data=json.dumps(posts_data,indent=2)\n",
    "print(posts_data) \"\"\""
   ]
  }
 ],
 "metadata": {
  "kernelspec": {
   "display_name": "Python 3",
   "language": "python",
   "name": "python3"
  },
  "language_info": {
   "codemirror_mode": {
    "name": "ipython",
    "version": 3
   },
   "file_extension": ".py",
   "mimetype": "text/x-python",
   "name": "python",
   "nbconvert_exporter": "python",
   "pygments_lexer": "ipython3",
   "version": "3.11.3"
  },
  "orig_nbformat": 4
 },
 "nbformat": 4,
 "nbformat_minor": 2
}
